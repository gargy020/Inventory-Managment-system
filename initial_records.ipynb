{
 "cells": [
  {
   "cell_type": "code",
   "execution_count": 1,
   "id": "5bdc53f7",
   "metadata": {},
   "outputs": [],
   "source": [
    "import json"
   ]
  },
  {
   "cell_type": "code",
   "execution_count": 2,
   "id": "c87744a8",
   "metadata": {},
   "outputs": [],
   "source": [
    "records={'1001': {'name': 'Choco Cake', 'pr': 100, 'qn': 34},\n",
    " '1002': {'name': 'Milk Cake', 'pr': 800, 'qn': 100},\n",
    " '1003': {'name': 'Drink', 'pr': 85, 'qn': 100},\n",
    " '1004': {'name': 'Candy', 'pr': 5, 'qn': 1000},\n",
    " '1005': {'name': 'Pen', 'pr': 20, 'qn': 100},\n",
    " '1006': {'name': 'Phone', 'pr': 50000, 'qn': 9},\n",
    " '1007': {'name': 'Mic', 'pr': 1500, 'qn': 0},\n",
    " '1008': {'name': 'Case', 'pr': 599, 'qn': 5},\n",
    " '1009': {'name': 'pasta','pr':25,'qn':20},\n",
    " '1010': {'name': 'maggi','pr':12,'qn':10},\n",
    " '1011': {'name': 'rusk', 'pr': 35, 'qn': 27},\n",
    " '1012': {'name': 'milk', 'pr': 30, 'qn': 22},\n",
    " '1013': {'name': 'Drink', 'pr': 85, 'qn': 100},\n",
    " '1014': {'name': 'namkeen', 'pr': 150, 'qn': 76},\n",
    " '1015': {'name': 'Pencil', 'pr': 5, 'qn': 150},\n",
    " '1016': {'name': 'eraser', 'pr': 2, 'qn': 100},\n",
    " '1017': {'name': 'table', 'pr': 4000, 'qn': 7},\n",
    " '1018': {'name': 'chair', 'pr': 600, 'qn': 30},\n",
    " '1019': {'name': 'charger','pr':350,'qn':20},\n",
    " '1020': {'name': 'fan','pr':1200,'qn':10},\n",
    " '1020': {'name': 'switch','pr':65,'qn':50},\n",
    " '1021': {'name': 'earphone', 'pr': 250, 'qn': 27},\n",
    " '1022': {'name': 'tea', 'pr': 500, 'qn': 30},\n",
    " '1023': {'name': 'coffee', 'pr': 700, 'qn': 60},\n",
    " '1024': {'name': 'biscuits', 'pr': 20, 'qn': 200},\n",
    " '1025': {'name': 'bag', 'pr': 800, 'qn': 25},\n",
    " '1026': {'name': 'handle', 'pr': 50, 'qn': 100},\n",
    " '1027': {'name': 'screen_guard', 'pr': 250, 'qn': 20},\n",
    " '1028': {'name': 'carpet', 'pr': 2000, 'qn': 25},\n",
    " '1029': {'name': 'shoe','pr':1500,'qn':20},\n",
    " '1030': {'name': 'mask','pr':10,'qn':100},}"
   ]
  },
  {
   "cell_type": "code",
   "execution_count": 3,
   "id": "36b26790",
   "metadata": {},
   "outputs": [],
   "source": [
    "js = json.dumps(records)"
   ]
  },
  {
   "cell_type": "code",
   "execution_count": 4,
   "id": "eabc1dd9",
   "metadata": {},
   "outputs": [],
   "source": [
    "fd = open(\"records.json\",'a')\n",
    "\n",
    "fd.write(js)\n",
    "\n",
    "fd.close()"
   ]
  },
  {
   "cell_type": "code",
   "execution_count": 5,
   "id": "6bd1c867",
   "metadata": {},
   "outputs": [],
   "source": [
    "fd = open(\"records.json\",'r')\n",
    "\n",
    "txt = fd.read()\n",
    "\n",
    "fd.close()\n"
   ]
  },
  {
   "cell_type": "code",
   "execution_count": 6,
   "id": "ca4f3c81",
   "metadata": {},
   "outputs": [],
   "source": [
    "records = json.loads(txt)"
   ]
  },
  {
   "cell_type": "code",
   "execution_count": 7,
   "id": "02a3b8c0",
   "metadata": {},
   "outputs": [
    {
     "data": {
      "text/plain": [
       "{'1001': {'name': 'Choco Cake', 'pr': 100, 'qn': 34},\n",
       " '1002': {'name': 'Milk Cake', 'pr': 800, 'qn': 100},\n",
       " '1003': {'name': 'Drink', 'pr': 85, 'qn': 100},\n",
       " '1004': {'name': 'Candy', 'pr': 5, 'qn': 1000},\n",
       " '1005': {'name': 'Pen', 'pr': 20, 'qn': 100},\n",
       " '1006': {'name': 'Phone', 'pr': 50000, 'qn': 9},\n",
       " '1007': {'name': 'Mic', 'pr': 1500, 'qn': 0},\n",
       " '1008': {'name': 'Case', 'pr': 599, 'qn': 5},\n",
       " '1009': {'name': 'pasta', 'pr': 25, 'qn': 20},\n",
       " '1010': {'name': 'maggi', 'pr': 12, 'qn': 10},\n",
       " '1011': {'name': 'rusk', 'pr': 35, 'qn': 27},\n",
       " '1012': {'name': 'milk', 'pr': 30, 'qn': 22},\n",
       " '1013': {'name': 'Drink', 'pr': 85, 'qn': 100},\n",
       " '1014': {'name': 'namkeen', 'pr': 150, 'qn': 76},\n",
       " '1015': {'name': 'Pencil', 'pr': 5, 'qn': 150},\n",
       " '1016': {'name': 'eraser', 'pr': 2, 'qn': 100},\n",
       " '1017': {'name': 'table', 'pr': 4000, 'qn': 7},\n",
       " '1018': {'name': 'chair', 'pr': 600, 'qn': 30},\n",
       " '1019': {'name': 'charger', 'pr': 350, 'qn': 20},\n",
       " '1020': {'name': 'switch', 'pr': 65, 'qn': 50},\n",
       " '1021': {'name': 'earphone', 'pr': 250, 'qn': 27},\n",
       " '1022': {'name': 'tea', 'pr': 500, 'qn': 30},\n",
       " '1023': {'name': 'coffee', 'pr': 700, 'qn': 60},\n",
       " '1024': {'name': 'biscuits', 'pr': 20, 'qn': 200},\n",
       " '1025': {'name': 'bag', 'pr': 800, 'qn': 25},\n",
       " '1026': {'name': 'handle', 'pr': 50, 'qn': 100},\n",
       " '1027': {'name': 'screen_guard', 'pr': 250, 'qn': 20},\n",
       " '1028': {'name': 'carpet', 'pr': 2000, 'qn': 25},\n",
       " '1029': {'name': 'shoe', 'pr': 1500, 'qn': 20},\n",
       " '1030': {'name': 'mask', 'pr': 10, 'qn': 100}}"
      ]
     },
     "execution_count": 7,
     "metadata": {},
     "output_type": "execute_result"
    }
   ],
   "source": [
    "records"
   ]
  },
  {
   "cell_type": "code",
   "execution_count": null,
   "id": "e5db46b3",
   "metadata": {},
   "outputs": [],
   "source": []
  }
 ],
 "metadata": {
  "kernelspec": {
   "display_name": "Python 3",
   "language": "python",
   "name": "python3"
  },
  "language_info": {
   "codemirror_mode": {
    "name": "ipython",
    "version": 3
   },
   "file_extension": ".py",
   "mimetype": "text/x-python",
   "name": "python",
   "nbconvert_exporter": "python",
   "pygments_lexer": "ipython3",
   "version": "3.8.8"
  }
 },
 "nbformat": 4,
 "nbformat_minor": 5
}
